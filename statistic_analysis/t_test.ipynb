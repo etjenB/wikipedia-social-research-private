{
 "cells": [
  {
   "cell_type": "code",
   "execution_count": 1,
   "metadata": {},
   "outputs": [],
   "source": [
    "import pandas as pd \n",
    "import numpy as np \n",
    "import math \n",
    "import scipy.stats as stats\n",
    "import matplotlib.pyplot as plt"
   ]
  },
  {
   "cell_type": "code",
   "execution_count": 2,
   "metadata": {},
   "outputs": [],
   "source": [
    "# Election details\n",
    "elections = ['UK','USA-Represantatives','USA-Senat','Germany','Austria']\n",
    "election_times = {\n",
    "    'UK':  ['2010-05-06', '2015-05-07', '2017-06-08', '2019-12-12', '2024-07-04'],\n",
    "    'USA-Represantatives': ['2012-11-06', '2014-11-04', '2016-11-08', '2018-11-06', '2020-11-03','2024-11-03'],\n",
    "    'USA-Senat': ['2012-11-06', '2014-11-04', '2016-11-08', '2018-11-06', '2020-11-03','2024-11-03'],  \n",
    "    'Germany':  ['2013-09-22', '2017-09-24', '2021-09-26'],\n",
    "    'Austria':  ['2013-09-29', '2017-10-15', '2019-09-29', '2024-09-29']\n",
    "}\n",
    "\n",
    "files = {'UK':'../data/Final Datasets/Final Datasets/UK_politician_data.csv',\n",
    "         'USA-Represantatives':'../data/Final Datasets/Final Datasets/USA-Represantatives_rep_politician_data.csv',\n",
    "         'USA-Senat':'../data/Final Datasets/Final Datasets/USA-Senat_sen_politician_data.csv',\n",
    "         'Germany':'../data/Final Datasets/Final Datasets/Germany_politician_data.csv', \n",
    "         'Austria':'../data/Final Datasets/Final Datasets/Austria_politician_data.csv'}"
   ]
  },
  {
   "cell_type": "code",
   "execution_count": 3,
   "metadata": {},
   "outputs": [
    {
     "ename": "KeyboardInterrupt",
     "evalue": "",
     "output_type": "error",
     "traceback": [
      "\u001b[0;31m---------------------------------------------------------------------------\u001b[0m",
      "\u001b[0;31mKeyboardInterrupt\u001b[0m                         Traceback (most recent call last)",
      "Cell \u001b[0;32mIn[3], line 3\u001b[0m\n\u001b[1;32m      1\u001b[0m datasets \u001b[38;5;241m=\u001b[39m {}\n\u001b[1;32m      2\u001b[0m \u001b[38;5;28;01mfor\u001b[39;00m file \u001b[38;5;129;01min\u001b[39;00m files:\n\u001b[0;32m----> 3\u001b[0m     data \u001b[38;5;241m=\u001b[39m \u001b[43mpd\u001b[49m\u001b[38;5;241;43m.\u001b[39;49m\u001b[43mread_csv\u001b[49m\u001b[43m(\u001b[49m\u001b[43mfiles\u001b[49m\u001b[43m[\u001b[49m\u001b[43mfile\u001b[49m\u001b[43m]\u001b[49m\u001b[43m)\u001b[49m\n\u001b[1;32m      4\u001b[0m     data[\u001b[38;5;124m'\u001b[39m\u001b[38;5;124mDate\u001b[39m\u001b[38;5;124m'\u001b[39m] \u001b[38;5;241m=\u001b[39m pd\u001b[38;5;241m.\u001b[39mto_datetime(data[\u001b[38;5;124m'\u001b[39m\u001b[38;5;124mDate\u001b[39m\u001b[38;5;124m'\u001b[39m])\n\u001b[1;32m      5\u001b[0m     datasets[file] \u001b[38;5;241m=\u001b[39m data\n",
      "File \u001b[0;32m/usr/lib/python3/dist-packages/pandas/io/parsers/readers.py:948\u001b[0m, in \u001b[0;36mread_csv\u001b[0;34m(filepath_or_buffer, sep, delimiter, header, names, index_col, usecols, dtype, engine, converters, true_values, false_values, skipinitialspace, skiprows, skipfooter, nrows, na_values, keep_default_na, na_filter, verbose, skip_blank_lines, parse_dates, infer_datetime_format, keep_date_col, date_parser, date_format, dayfirst, cache_dates, iterator, chunksize, compression, thousands, decimal, lineterminator, quotechar, quoting, doublequote, escapechar, comment, encoding, encoding_errors, dialect, on_bad_lines, delim_whitespace, low_memory, memory_map, float_precision, storage_options, dtype_backend)\u001b[0m\n\u001b[1;32m    935\u001b[0m kwds_defaults \u001b[38;5;241m=\u001b[39m _refine_defaults_read(\n\u001b[1;32m    936\u001b[0m     dialect,\n\u001b[1;32m    937\u001b[0m     delimiter,\n\u001b[0;32m   (...)\u001b[0m\n\u001b[1;32m    944\u001b[0m     dtype_backend\u001b[38;5;241m=\u001b[39mdtype_backend,\n\u001b[1;32m    945\u001b[0m )\n\u001b[1;32m    946\u001b[0m kwds\u001b[38;5;241m.\u001b[39mupdate(kwds_defaults)\n\u001b[0;32m--> 948\u001b[0m \u001b[38;5;28;01mreturn\u001b[39;00m \u001b[43m_read\u001b[49m\u001b[43m(\u001b[49m\u001b[43mfilepath_or_buffer\u001b[49m\u001b[43m,\u001b[49m\u001b[43m \u001b[49m\u001b[43mkwds\u001b[49m\u001b[43m)\u001b[49m\n",
      "File \u001b[0;32m/usr/lib/python3/dist-packages/pandas/io/parsers/readers.py:617\u001b[0m, in \u001b[0;36m_read\u001b[0;34m(filepath_or_buffer, kwds)\u001b[0m\n\u001b[1;32m    614\u001b[0m     \u001b[38;5;28;01mreturn\u001b[39;00m parser\n\u001b[1;32m    616\u001b[0m \u001b[38;5;28;01mwith\u001b[39;00m parser:\n\u001b[0;32m--> 617\u001b[0m     \u001b[38;5;28;01mreturn\u001b[39;00m \u001b[43mparser\u001b[49m\u001b[38;5;241;43m.\u001b[39;49m\u001b[43mread\u001b[49m\u001b[43m(\u001b[49m\u001b[43mnrows\u001b[49m\u001b[43m)\u001b[49m\n",
      "File \u001b[0;32m/usr/lib/python3/dist-packages/pandas/io/parsers/readers.py:1748\u001b[0m, in \u001b[0;36mTextFileReader.read\u001b[0;34m(self, nrows)\u001b[0m\n\u001b[1;32m   1741\u001b[0m nrows \u001b[38;5;241m=\u001b[39m validate_integer(\u001b[38;5;124m\"\u001b[39m\u001b[38;5;124mnrows\u001b[39m\u001b[38;5;124m\"\u001b[39m, nrows)\n\u001b[1;32m   1742\u001b[0m \u001b[38;5;28;01mtry\u001b[39;00m:\n\u001b[1;32m   1743\u001b[0m     \u001b[38;5;66;03m# error: \"ParserBase\" has no attribute \"read\"\u001b[39;00m\n\u001b[1;32m   1744\u001b[0m     (\n\u001b[1;32m   1745\u001b[0m         index,\n\u001b[1;32m   1746\u001b[0m         columns,\n\u001b[1;32m   1747\u001b[0m         col_dict,\n\u001b[0;32m-> 1748\u001b[0m     ) \u001b[38;5;241m=\u001b[39m \u001b[38;5;28;43mself\u001b[39;49m\u001b[38;5;241;43m.\u001b[39;49m\u001b[43m_engine\u001b[49m\u001b[38;5;241;43m.\u001b[39;49m\u001b[43mread\u001b[49m\u001b[43m(\u001b[49m\u001b[43m  \u001b[49m\u001b[38;5;66;43;03m# type: ignore[attr-defined]\u001b[39;49;00m\n\u001b[1;32m   1749\u001b[0m \u001b[43m        \u001b[49m\u001b[43mnrows\u001b[49m\n\u001b[1;32m   1750\u001b[0m \u001b[43m    \u001b[49m\u001b[43m)\u001b[49m\n\u001b[1;32m   1751\u001b[0m \u001b[38;5;28;01mexcept\u001b[39;00m \u001b[38;5;167;01mException\u001b[39;00m:\n\u001b[1;32m   1752\u001b[0m     \u001b[38;5;28mself\u001b[39m\u001b[38;5;241m.\u001b[39mclose()\n",
      "File \u001b[0;32m/usr/lib/python3/dist-packages/pandas/io/parsers/c_parser_wrapper.py:234\u001b[0m, in \u001b[0;36mCParserWrapper.read\u001b[0;34m(self, nrows)\u001b[0m\n\u001b[1;32m    232\u001b[0m \u001b[38;5;28;01mtry\u001b[39;00m:\n\u001b[1;32m    233\u001b[0m     \u001b[38;5;28;01mif\u001b[39;00m \u001b[38;5;28mself\u001b[39m\u001b[38;5;241m.\u001b[39mlow_memory:\n\u001b[0;32m--> 234\u001b[0m         chunks \u001b[38;5;241m=\u001b[39m \u001b[38;5;28;43mself\u001b[39;49m\u001b[38;5;241;43m.\u001b[39;49m\u001b[43m_reader\u001b[49m\u001b[38;5;241;43m.\u001b[39;49m\u001b[43mread_low_memory\u001b[49m\u001b[43m(\u001b[49m\u001b[43mnrows\u001b[49m\u001b[43m)\u001b[49m\n\u001b[1;32m    235\u001b[0m         \u001b[38;5;66;03m# destructive to chunks\u001b[39;00m\n\u001b[1;32m    236\u001b[0m         data \u001b[38;5;241m=\u001b[39m _concatenate_chunks(chunks)\n",
      "File \u001b[0;32m/usr/lib/python3/dist-packages/pandas/_libs/parsers.pyx:843\u001b[0m, in \u001b[0;36mpandas._libs.parsers.TextReader.read_low_memory\u001b[0;34m()\u001b[0m\n",
      "File \u001b[0;32m/usr/lib/python3/dist-packages/pandas/_libs/parsers.pyx:904\u001b[0m, in \u001b[0;36mpandas._libs.parsers.TextReader._read_rows\u001b[0;34m()\u001b[0m\n",
      "File \u001b[0;32m/usr/lib/python3/dist-packages/pandas/_libs/parsers.pyx:879\u001b[0m, in \u001b[0;36mpandas._libs.parsers.TextReader._tokenize_rows\u001b[0;34m()\u001b[0m\n",
      "File \u001b[0;32m/usr/lib/python3/dist-packages/pandas/_libs/parsers.pyx:890\u001b[0m, in \u001b[0;36mpandas._libs.parsers.TextReader._check_tokenize_status\u001b[0;34m()\u001b[0m\n",
      "File \u001b[0;32m/usr/lib/python3/dist-packages/pandas/_libs/parsers.pyx:2050\u001b[0m, in \u001b[0;36mpandas._libs.parsers.raise_parser_error\u001b[0;34m()\u001b[0m\n",
      "File \u001b[0;32m<frozen codecs>:331\u001b[0m, in \u001b[0;36mgetstate\u001b[0;34m(self)\u001b[0m\n",
      "\u001b[0;31mKeyboardInterrupt\u001b[0m: "
     ]
    }
   ],
   "source": [
    "datasets = {}\n",
    "for file in files:\n",
    "    data = pd.read_csv(files[file])\n",
    "    data['Date'] = pd.to_datetime(data['Date'])\n",
    "    datasets[file] = data"
   ]
  },
  {
   "cell_type": "code",
   "execution_count": 4,
   "metadata": {},
   "outputs": [],
   "source": [
    "## reading data\n",
    "german = pd.read_csv('../data/Final Datasets/Final Datasets/Germany_politician_data.csv')\n",
    "german['Date'] = pd.to_datetime(german['Date'])\n"
   ]
  },
  {
   "cell_type": "code",
   "execution_count": 5,
   "metadata": {},
   "outputs": [],
   "source": [
    "\n",
    "def group_by_date(date, data, offset =3):\n",
    "    \"\"\"\n",
    "    Gruppiert die Daten basierend auf einem Datum und einem ±3-Monats-Zeitraum.\n",
    "\n",
    "    Args:\n",
    "        date (str or pd.Timestamp): Referenzdatum.\n",
    "        data (pd.DataFrame): DataFrame mit einer 'Date'-Spalte.\n",
    "\n",
    "    Returns:\n",
    "        tuple: Zwei DataFrames - innerhalb und außerhalb des Zeitraums.\n",
    "    \"\"\"\n",
    "    \n",
    "    date = pd.to_datetime(date)\n",
    "    date_before = date - pd.DateOffset(months=offset)\n",
    "    date_after = date + pd.DateOffset(months=offset)\n",
    "\n",
    "    # Filtere die Daten\n",
    "    values_in_date_range = data[(data['Date'] >= date_before) & (data['Date'] <= date_after)]\n",
    "    values_outside_date_range = data[(data['Date'] < date_before) | (data['Date'] > date_after)]\n",
    "\n",
    "    return values_in_date_range, values_outside_date_range\n",
    "\n",
    "def filter_election_periods(data:pd.DataFrame,dates:list[str], offset:int = 3)->tuple[pd.DataFrame,pd.DataFrame]:\n",
    "    data[(data['Date'] >= '2010-01-01') & (data['Date'] <= '2024-12-31')]\n",
    "    election_data = pd.DataFrame()  \n",
    "    not_election_data = data\n",
    "    for date in dates:\n",
    "        single_election_data, not_election_data = group_by_date(date, not_election_data, offset)\n",
    "        election_data = pd.concat([election_data, single_election_data], ignore_index=True)\n",
    "    return(election_data, not_election_data)\n",
    "\n",
    "\n"
   ]
  },
  {
   "cell_type": "code",
   "execution_count": 85,
   "metadata": {},
   "outputs": [
    {
     "name": "stdout",
     "output_type": "stream",
     "text": [
      "####UK######\n",
      "NormaltestResult(statistic=1626911.2738473774, pvalue=0.0)\n",
      "####USA-Represantatives######\n",
      "NormaltestResult(statistic=1094641.287127756, pvalue=0.0)\n",
      "####USA-Senat######\n",
      "NormaltestResult(statistic=701589.6133630311, pvalue=0.0)\n",
      "####Germany######\n",
      "NormaltestResult(statistic=198059.34138454928, pvalue=0.0)\n",
      "####Austria######\n",
      "NormaltestResult(statistic=38598.09726989769, pvalue=0.0)\n"
     ]
    }
   ],
   "source": [
    "## test if data is nomal distibuted\n",
    "## if p < 0.5 then data is NOT normaly distibuted\n",
    "for election in datasets:\n",
    "    print(f'####{election}######')\n",
    "    print(stats.normaltest(datasets[election].Changes))"
   ]
  },
  {
   "cell_type": "code",
   "execution_count": 84,
   "metadata": {},
   "outputs": [
    {
     "name": "stdout",
     "output_type": "stream",
     "text": [
      "####UK######\n",
      "MannwhitneyuResult(statistic=279030576276.5, pvalue=6.190182418265848e-20)\n",
      "####USA-Represantatives######\n",
      "MannwhitneyuResult(statistic=254195309910.0, pvalue=0.4931038856361426)\n",
      "####USA-Senat######\n",
      "MannwhitneyuResult(statistic=96857838118.5, pvalue=2.4482690831353547e-06)\n",
      "####Germany######\n",
      "MannwhitneyuResult(statistic=7161436566.0, pvalue=4.23310747596975e-32)\n",
      "####Austria######\n",
      "MannwhitneyuResult(statistic=404277358.5, pvalue=3.284243037880551e-27)\n"
     ]
    }
   ],
   "source": [
    "## does the mann whitneyu test becaus the data is not normaly distributed\n",
    "for election in datasets:\n",
    "    print(f'####{election}######')\n",
    "    election_data, not_election_data = filter_election_periods(datasets[election],election_times[election],3)\n",
    "    print(stats.mannwhitneyu(election_data.Changes, not_election_data.Changes, alternative='two-sided'))"
   ]
  },
  {
   "cell_type": "code",
   "execution_count": 6,
   "metadata": {},
   "outputs": [],
   "source": [
    "## hypothesen test für verschiedene offsets\n",
    "\n",
    "p_values_elections = {\n",
    "    'UK':  [],\n",
    "    'USA-Represantatives': [],\n",
    "    'USA-Senat': [],  \n",
    "    'Germany':  [],\n",
    "    'Austria':  []\n",
    "}\n",
    "for offset in range (10):\n",
    "    for election in datasets:\n",
    "        #print(f'####{election}######)\n",
    "        election_data, not_election_data = filter_election_periods(datasets[election],election_times[election],offset)\n",
    "        p_values_elections[election].append(stats.mannwhitneyu(x=election_data.Changes, y=not_election_data.Changes).pvalue)\n",
    "        #print(stats.ttest_ind(a=election_data.Changes, b=not_election_data.Changes, equal_var=False))\n",
    "\n",
    "    "
   ]
  },
  {
   "cell_type": "code",
   "execution_count": 7,
   "metadata": {},
   "outputs": [
    {
     "data": {
      "text/plain": [
       "<matplotlib.legend.Legend at 0x749b4e905430>"
      ]
     },
     "execution_count": 7,
     "metadata": {},
     "output_type": "execute_result"
    },
    {
     "data": {
      "image/png": "[encoded data removed]",
      "text/plain": [
       "<Figure size 640x480 with 1 Axes>"
      ]
     },
     "metadata": {},
     "output_type": "display_data"
    }
   ],
   "source": [
    "for election in p_values_elections:\n",
    "    plt.plot(p_values_elections[election],label=election)\n",
    "plt.xlabel('offset')\n",
    "plt.ylabel('p_value')\n",
    "plt.legend()"
   ]
  },
  {
   "cell_type": "code",
   "execution_count": null,
   "metadata": {},
   "outputs": [],
   "source": []
  },
  {
   "cell_type": "code",
   "execution_count": 33,
   "metadata": {},
   "outputs": [],
   "source": [
    "def group_by_person(election_data,not_election_data)->tuple[pd.Series,pd.Series]:\n",
    "    # Berechne die Mittelwerte der Änderungen für jede Gruppe\n",
    "    election_means = election_data.groupby('name')['Changes'].mean()\n",
    "    not_election_means = not_election_data.groupby('name')['Changes'].mean()\n",
    "\n",
    "    # Finde die gemeinsamen Namen in beiden DataFrames\n",
    "    common_names = election_means.index.intersection(not_election_means.index)\n",
    "\n",
    "    # Filtere die Daten auf die gemeinsamen Namen\n",
    "    election_means_common = election_means.loc[common_names]\n",
    "    not_election_means_common = not_election_means.loc[common_names]\n",
    "    \n",
    "    return (election_means_common, not_election_means_common)"
   ]
  },
  {
   "cell_type": "code",
   "execution_count": null,
   "metadata": {},
   "outputs": [
    {
     "name": "stdout",
     "output_type": "stream",
     "text": [
      "####UK######\n",
      "WilcoxonResult(statistic=349676.0, pvalue=0.7322716276241241)\n",
      "####USA-Represantatives######\n",
      "WilcoxonResult(statistic=121103.0, pvalue=0.49694420610304246)\n",
      "####USA-Senat######\n",
      "WilcoxonResult(statistic=4997.0, pvalue=0.3927023714493384)\n",
      "####Germany######\n",
      "WilcoxonResult(statistic=151275.0, pvalue=5.295761546194933e-25)\n",
      "####Austria######\n",
      "WilcoxonResult(statistic=34181.0, pvalue=5.5400532281260894e-08)\n"
     ]
    }
   ],
   "source": [
    "## does a wilcoxon test weil abhänige stichproben\n",
    "for election in datasets:\n",
    "    print(f'####{election}######')\n",
    "    election_data, not_election_data = filter_election_periods(datasets[election],election_times[election],3)\n",
    "    election_data, not_election_data = group_by_person(election_data, not_election_data)\n",
    "    print(stats.wilcoxon(x=election_data, y=not_election_data))\n",
    "    "
   ]
  },
  {
   "cell_type": "code",
   "execution_count": null,
   "metadata": {},
   "outputs": [],
   "source": []
  },
  {
   "cell_type": "code",
   "execution_count": 44,
   "metadata": {},
   "outputs": [
    {
     "name": "stdout",
     "output_type": "stream",
     "text": [
      "####UK######\n",
      "MannwhitneyuResult(statistic=279030576276.5, pvalue=6.190182418265848e-20)\n",
      "####USA-Represantatives######\n",
      "MannwhitneyuResult(statistic=254195309910.0, pvalue=0.4931038856361426)\n",
      "####USA-Senat######\n",
      "MannwhitneyuResult(statistic=96857838118.5, pvalue=2.4482690831353547e-06)\n",
      "####Germany######\n",
      "MannwhitneyuResult(statistic=7161436566.0, pvalue=4.23310747596975e-32)\n",
      "####Austria######\n",
      "MannwhitneyuResult(statistic=404277358.5, pvalue=3.284243037880551e-27)\n"
     ]
    }
   ],
   "source": [
    "for election in datasets:\n",
    "    print(f'####{election}######')\n",
    "    election_data, not_election_data = filter_election_periods(datasets[election],election_times[election],3)\n",
    "    print(stats.mannwhitneyu(election_data.Changes, not_election_data.Changes, alternative='two-sided'))"
   ]
  },
  {
   "cell_type": "markdown",
   "metadata": {},
   "source": [
    "## testing"
   ]
  },
  {
   "cell_type": "code",
   "execution_count": 19,
   "metadata": {},
   "outputs": [
    {
     "data": {
      "text/plain": [
       "TtestResult(statistic=0.5478099509038079, pvalue=0.583822913722108, df=240429.81976911525)"
      ]
     },
     "execution_count": 19,
     "metadata": {},
     "output_type": "execute_result"
    }
   ],
   "source": [
    "stats.ttest_ind(a=election_data.Changes, b=not_election_data.Changes, equal_var=False)"
   ]
  },
  {
   "cell_type": "code",
   "execution_count": 26,
   "metadata": {},
   "outputs": [],
   "source": [
    "politician = german[german['Politician']=='Christopher_Gohl']\n",
    "politician = politician.set_index('Date')"
   ]
  },
  {
   "cell_type": "code",
   "execution_count": 46,
   "metadata": {},
   "outputs": [
    {
     "data": {
      "text/plain": [
       "Timestamp('2021-04-20 00:00:00')"
      ]
     },
     "execution_count": 46,
     "metadata": {},
     "output_type": "execute_result"
    }
   ],
   "source": [
    "date"
   ]
  },
  {
   "cell_type": "code",
   "execution_count": 36,
   "metadata": {},
   "outputs": [
    {
     "ename": "KeyError",
     "evalue": "Timestamp('2021-04-20 00:00:00')",
     "output_type": "error",
     "traceback": [
      "\u001b[0;31m---------------------------------------------------------------------------\u001b[0m",
      "\u001b[0;31mKeyError\u001b[0m                                  Traceback (most recent call last)",
      "File \u001b[0;32m/usr/lib/python3/dist-packages/pandas/core/indexes/base.py:3791\u001b[0m, in \u001b[0;36mIndex.get_loc\u001b[0;34m(self, key)\u001b[0m\n\u001b[1;32m   3790\u001b[0m \u001b[38;5;28;01mtry\u001b[39;00m:\n\u001b[0;32m-> 3791\u001b[0m     \u001b[38;5;28;01mreturn\u001b[39;00m \u001b[38;5;28;43mself\u001b[39;49m\u001b[38;5;241;43m.\u001b[39;49m\u001b[43m_engine\u001b[49m\u001b[38;5;241;43m.\u001b[39;49m\u001b[43mget_loc\u001b[49m\u001b[43m(\u001b[49m\u001b[43mcasted_key\u001b[49m\u001b[43m)\u001b[49m\n\u001b[1;32m   3792\u001b[0m \u001b[38;5;28;01mexcept\u001b[39;00m \u001b[38;5;167;01mKeyError\u001b[39;00m \u001b[38;5;28;01mas\u001b[39;00m err:\n",
      "File \u001b[0;32m/usr/lib/python3/dist-packages/pandas/_libs/index.pyx:152\u001b[0m, in \u001b[0;36mpandas._libs.index.IndexEngine.get_loc\u001b[0;34m()\u001b[0m\n",
      "File \u001b[0;32m/usr/lib/python3/dist-packages/pandas/_libs/index.pyx:181\u001b[0m, in \u001b[0;36mpandas._libs.index.IndexEngine.get_loc\u001b[0;34m()\u001b[0m\n",
      "File \u001b[0;32mpandas/_libs/hashtable_class_helper.pxi:7080\u001b[0m, in \u001b[0;36mpandas._libs.hashtable.PyObjectHashTable.get_item\u001b[0;34m()\u001b[0m\n",
      "File \u001b[0;32mpandas/_libs/hashtable_class_helper.pxi:7088\u001b[0m, in \u001b[0;36mpandas._libs.hashtable.PyObjectHashTable.get_item\u001b[0;34m()\u001b[0m\n",
      "\u001b[0;31mKeyError\u001b[0m: Timestamp('2021-04-20 00:00:00')",
      "\nThe above exception was the direct cause of the following exception:\n",
      "\u001b[0;31mKeyError\u001b[0m                                  Traceback (most recent call last)",
      "Cell \u001b[0;32mIn[36], line 6\u001b[0m\n\u001b[1;32m      4\u001b[0m date \u001b[38;5;241m=\u001b[39m row\u001b[38;5;241m.\u001b[39mdate\n\u001b[1;32m      5\u001b[0m \u001b[38;5;28;01mif\u001b[39;00m date \u001b[38;5;129;01min\u001b[39;00m politician\u001b[38;5;241m.\u001b[39mindex:\n\u001b[0;32m----> 6\u001b[0m     \u001b[38;5;28mprint\u001b[39m(\u001b[43mpolitician\u001b[49m\u001b[43m[\u001b[49m\u001b[43mdate\u001b[49m\u001b[43m]\u001b[49m\u001b[38;5;241m.\u001b[39mChanges)\n",
      "File \u001b[0;32m/usr/lib/python3/dist-packages/pandas/core/frame.py:3893\u001b[0m, in \u001b[0;36mDataFrame.__getitem__\u001b[0;34m(self, key)\u001b[0m\n\u001b[1;32m   3891\u001b[0m \u001b[38;5;28;01mif\u001b[39;00m \u001b[38;5;28mself\u001b[39m\u001b[38;5;241m.\u001b[39mcolumns\u001b[38;5;241m.\u001b[39mnlevels \u001b[38;5;241m>\u001b[39m \u001b[38;5;241m1\u001b[39m:\n\u001b[1;32m   3892\u001b[0m     \u001b[38;5;28;01mreturn\u001b[39;00m \u001b[38;5;28mself\u001b[39m\u001b[38;5;241m.\u001b[39m_getitem_multilevel(key)\n\u001b[0;32m-> 3893\u001b[0m indexer \u001b[38;5;241m=\u001b[39m \u001b[38;5;28;43mself\u001b[39;49m\u001b[38;5;241;43m.\u001b[39;49m\u001b[43mcolumns\u001b[49m\u001b[38;5;241;43m.\u001b[39;49m\u001b[43mget_loc\u001b[49m\u001b[43m(\u001b[49m\u001b[43mkey\u001b[49m\u001b[43m)\u001b[49m\n\u001b[1;32m   3894\u001b[0m \u001b[38;5;28;01mif\u001b[39;00m is_integer(indexer):\n\u001b[1;32m   3895\u001b[0m     indexer \u001b[38;5;241m=\u001b[39m [indexer]\n",
      "File \u001b[0;32m/usr/lib/python3/dist-packages/pandas/core/indexes/base.py:3798\u001b[0m, in \u001b[0;36mIndex.get_loc\u001b[0;34m(self, key)\u001b[0m\n\u001b[1;32m   3793\u001b[0m     \u001b[38;5;28;01mif\u001b[39;00m \u001b[38;5;28misinstance\u001b[39m(casted_key, \u001b[38;5;28mslice\u001b[39m) \u001b[38;5;129;01mor\u001b[39;00m (\n\u001b[1;32m   3794\u001b[0m         \u001b[38;5;28misinstance\u001b[39m(casted_key, abc\u001b[38;5;241m.\u001b[39mIterable)\n\u001b[1;32m   3795\u001b[0m         \u001b[38;5;129;01mand\u001b[39;00m \u001b[38;5;28many\u001b[39m(\u001b[38;5;28misinstance\u001b[39m(x, \u001b[38;5;28mslice\u001b[39m) \u001b[38;5;28;01mfor\u001b[39;00m x \u001b[38;5;129;01min\u001b[39;00m casted_key)\n\u001b[1;32m   3796\u001b[0m     ):\n\u001b[1;32m   3797\u001b[0m         \u001b[38;5;28;01mraise\u001b[39;00m InvalidIndexError(key)\n\u001b[0;32m-> 3798\u001b[0m     \u001b[38;5;28;01mraise\u001b[39;00m \u001b[38;5;167;01mKeyError\u001b[39;00m(key) \u001b[38;5;28;01mfrom\u001b[39;00m \u001b[38;5;21;01merr\u001b[39;00m\n\u001b[1;32m   3799\u001b[0m \u001b[38;5;28;01mexcept\u001b[39;00m \u001b[38;5;167;01mTypeError\u001b[39;00m:\n\u001b[1;32m   3800\u001b[0m     \u001b[38;5;66;03m# If we have a listlike key, _check_indexing_error will raise\u001b[39;00m\n\u001b[1;32m   3801\u001b[0m     \u001b[38;5;66;03m#  InvalidIndexError. Otherwise we fall through and re-raise\u001b[39;00m\n\u001b[1;32m   3802\u001b[0m     \u001b[38;5;66;03m#  the TypeError.\u001b[39;00m\n\u001b[1;32m   3803\u001b[0m     \u001b[38;5;28mself\u001b[39m\u001b[38;5;241m.\u001b[39m_check_indexing_error(key)\n",
      "\u001b[0;31mKeyError\u001b[0m: Timestamp('2021-04-20 00:00:00')"
     ]
    }
   ],
   "source": [
    "dates = pd.date_range(start='2010-01-01',end='2024-12-31',unit='s')\n",
    "df = pd.DataFrame({'date':dates,'Changes':0})\n",
    "for i,row in df.iterrows():\n",
    "    date = row.date\n",
    "    if date in politician.index:\n",
    "        print(politician[date].Changes)\n"
   ]
  }
 ],
 "metadata": {
  "kernelspec": {
   "display_name": "usr",
   "language": "python",
   "name": "python3"
  },
  "language_info": {
   "codemirror_mode": {
    "name": "ipython",
    "version": 3
   },
   "file_extension": ".py",
   "mimetype": "text/x-python",
   "name": "python",
   "nbconvert_exporter": "python",
   "pygments_lexer": "ipython3",
   "version": "3.10.12"
  }
 },
 "nbformat": 4,
 "nbformat_minor": 2
}
