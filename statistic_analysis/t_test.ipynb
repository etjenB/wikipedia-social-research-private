{
 "cells": [
  {
   "cell_type": "code",
   "execution_count": 1,
   "metadata": {},
   "outputs": [],
   "source": [
    "import pandas as pd \n",
    "import numpy as np \n",
    "import math \n",
    "import scipy.stats as stats\n",
    "import matplotlib.pyplot as plt"
   ]
  },
  {
   "cell_type": "code",
   "execution_count": 2,
   "metadata": {},
   "outputs": [],
   "source": [
    "# Election details\n",
    "election_times = {\n",
    "    'UK': {\n",
    "        'General': ['2010-05-06', '2015-05-07', '2017-06-08', '2019-12-12', '2024-07-04']\n",
    "    },\n",
    "    'USA-Represantatives': {\n",
    "        'Represantatives': ['2012-11-06', '2014-11-04', '2016-11-08', '2018-11-06', '2020-11-03'],\n",
    "    },\n",
    "    'USA-Senat': {\n",
    "        'Senators': ['2012-11-06', '2014-11-04', '2016-11-08', '2018-11-06', '2020-11-03']\n",
    "    },  \n",
    "    'Germany': {\n",
    "        'Bundestag': ['2013-09-22', '2017-09-24', '2021-09-26']\n",
    "    },\n",
    "    'Austria': {\n",
    "        'Nationalrat': ['2013-09-29', '2017-10-15', '2019-09-29', '2024-09-29']\n",
    "    }\n",
    "}"
   ]
  },
  {
   "cell_type": "code",
   "execution_count": 3,
   "metadata": {},
   "outputs": [],
   "source": [
    "## reading data\n",
    "german = pd.read_csv('../data/Final Datasets/Final Datasets/Germany_politician_data.csv')\n",
    "german['Date'] = pd.to_datetime(german['Date'])\n"
   ]
  },
  {
   "cell_type": "code",
   "execution_count": 6,
   "metadata": {},
   "outputs": [],
   "source": [
    "\n",
    "def group_by_date(date, data, offset =3):\n",
    "    \"\"\"\n",
    "    Gruppiert die Daten basierend auf einem Datum und einem ±3-Monats-Zeitraum.\n",
    "\n",
    "    Args:\n",
    "        date (str or pd.Timestamp): Referenzdatum.\n",
    "        data (pd.DataFrame): DataFrame mit einer 'Date'-Spalte.\n",
    "\n",
    "    Returns:\n",
    "        tuple: Zwei DataFrames - innerhalb und außerhalb des Zeitraums.\n",
    "    \"\"\"\n",
    "    \n",
    "    date = pd.to_datetime(date)\n",
    "    date_before = date - pd.DateOffset(months=offset)\n",
    "    date_after = date + pd.DateOffset(months=offset)\n",
    "\n",
    "    # Filtere die Daten\n",
    "    values_in_date_range = data[(data['Date'] >= date_before) & (data['Date'] <= date_after)]\n",
    "    values_outside_date_range = data[(data['Date'] < date_before) | (data['Date'] > date_after)]\n",
    "\n",
    "    return values_in_date_range, values_outside_date_range\n",
    "\n",
    "def filter_election_periods(data:pd.DataFrame,dates:list[str])->tuple[pd.DataFrame,pd.DataFrame]:\n",
    "    election_data = pd.DataFrame()  \n",
    "\n",
    "    for date in dates:\n",
    "        single_election_data, not_election_data = group_by_date(date, not_election_data)\n",
    "        election_data = pd.concat([election_data, single_election_data], ignore_index=True)\n",
    "    return(election_data, not_election_data)\n",
    "\n"
   ]
  },
  {
   "cell_type": "code",
   "execution_count": 79,
   "metadata": {},
   "outputs": [],
   "source": [
    "\n"
   ]
  },
  {
   "cell_type": "code",
   "execution_count": 7,
   "metadata": {},
   "outputs": [],
   "source": [
    "election_data = pd.DataFrame()  # Initialize an empty DataFrame\n",
    "not_election_data = german  # Start with the full dataset\n",
    "\n",
    "for date in ['2013-09-22', '2017-09-24', '2021-09-26']:\n",
    "    single_election_data, not_election_data = group_by_date(date, not_election_data)\n",
    "    # Correct the typo in variable name\n",
    "    election_data = pd.concat([election_data, single_election_data], ignore_index=True)\n"
   ]
  },
  {
   "cell_type": "code",
   "execution_count": 8,
   "metadata": {},
   "outputs": [
    {
     "data": {
      "text/plain": [
       "TtestResult(statistic=2.7616597920110517, pvalue=0.005751418605617925, df=180295.13714212595)"
      ]
     },
     "execution_count": 8,
     "metadata": {},
     "output_type": "execute_result"
    }
   ],
   "source": [
    "stats.ttest_ind(a=election_data.changes, b=not_election_data.changes, equal_var=False)"
   ]
  },
  {
   "cell_type": "code",
   "execution_count": null,
   "metadata": {},
   "outputs": [],
   "source": []
  },
  {
   "cell_type": "code",
   "execution_count": null,
   "metadata": {},
   "outputs": [],
   "source": []
  }
 ],
 "metadata": {
  "kernelspec": {
   "display_name": "usr",
   "language": "python",
   "name": "python3"
  },
  "language_info": {
   "codemirror_mode": {
    "name": "ipython",
    "version": 3
   },
   "file_extension": ".py",
   "mimetype": "text/x-python",
   "name": "python",
   "nbconvert_exporter": "python",
   "pygments_lexer": "ipython3",
   "version": "3.12.3"
  }
 },
 "nbformat": 4,
 "nbformat_minor": 2
}
