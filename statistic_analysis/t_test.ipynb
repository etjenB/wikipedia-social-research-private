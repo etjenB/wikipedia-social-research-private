{
 "cells": [
  {
   "cell_type": "code",
   "execution_count": 1,
   "metadata": {},
   "outputs": [],
   "source": [
    "import pandas as pd \n",
    "import numpy as np \n",
    "import math \n",
    "import scipy.stats as stats\n",
    "import matplotlib.pyplot as plt"
   ]
  },
  {
   "cell_type": "code",
   "execution_count": 2,
   "metadata": {},
   "outputs": [
    {
     "name": "stdout",
     "output_type": "stream",
     "text": [
      "/home/erikkoppenhagen/Uni/graz/foundationsofcss/group_projekt/wikipedia-social-research-private/statistic_analysis\n"
     ]
    }
   ],
   "source": [
    "!pwd"
   ]
  },
  {
   "cell_type": "code",
   "execution_count": 3,
   "metadata": {},
   "outputs": [],
   "source": [
    "# Election details\n",
    "elections = ['UK','USA','Germany','Austria']\n",
    "election_times = {\n",
    "    'UK':  ['2010-05-06', '2015-05-07', '2017-06-08', '2019-12-12', '2024-07-04'],\n",
    "    'USA': ['2012-11-06', '2014-11-04', '2016-11-08', '2018-11-06', '2020-11-03','2024-11-03'],  \n",
    "    'Germany':  ['2013-09-22', '2017-09-24', '2021-09-26'],\n",
    "    'Austria':  ['2013-09-29', '2017-10-15', '2019-09-29', '2024-09-29']\n",
    "}\n",
    "\n",
    "files = {'UK':'../data/Final Datasets/Final Datasets/UK_politician_data.csv',\n",
    "         #'USA-Represantatives':'../data/Final Datasets/Final Datasets/USA-Represantatives_rep_politician_data.csv',\n",
    "         #'USA-Senat':'../data/Final Datasets/Final Datasets/USA-Senat_sen_politician_data.csv',\n",
    "         'USA':'../data/Final Datasets/Final Datasets/USA_all_politician.csv',\n",
    "         'Germany':'../data/Final Datasets/Final Datasets/Germany_politician_data.csv', \n",
    "         'Austria':'../data/Final Datasets/Final Datasets/Austria_politician_data.csv'}"
   ]
  },
  {
   "cell_type": "code",
   "execution_count": 4,
   "metadata": {},
   "outputs": [],
   "source": [
    "datasets = {}\n",
    "for file in files:\n",
    "    data = pd.read_csv(files[file])\n",
    "    data['Date'] = pd.to_datetime(data['Date'])\n",
    "    datasets[file] = data.drop_duplicates()"
   ]
  },
  {
   "cell_type": "code",
   "execution_count": 3,
   "metadata": {},
   "outputs": [],
   "source": [
    "## reading data\n",
    "german = pd.read_csv('../data/Final Datasets/Final Datasets/Germany_politician_data.csv')\n",
    "german['Date'] = pd.to_datetime(german['Date'])\n"
   ]
  },
  {
   "cell_type": "code",
   "execution_count": 5,
   "metadata": {},
   "outputs": [],
   "source": [
    "\n",
    "def group_by_date(date, data, offset =3):\n",
    "    \"\"\"\n",
    "    Gruppiert die Daten basierend auf einem Datum und einem ±3-Monats-Zeitraum.\n",
    "\n",
    "    Args:\n",
    "        date (str or pd.Timestamp): Referenzdatum.\n",
    "        data (pd.DataFrame): DataFrame mit einer 'Date'-Spalte.\n",
    "\n",
    "    Returns:\n",
    "        tuple: Zwei DataFrames - innerhalb und außerhalb des Zeitraums.\n",
    "    \"\"\"\n",
    "    \n",
    "    date = pd.to_datetime(date)\n",
    "    date_before = date - pd.DateOffset(months=offset)\n",
    "    date_after = date #+ pd.DateOffset(months=offset)\n",
    "\n",
    "    # Filtere die Daten\n",
    "    values_in_date_range = data[(data['Date'] >= date_before) & (data['Date'] <= date_after)]\n",
    "    values_outside_date_range = data[(data['Date'] < date_before) | (data['Date'] > date_after)]\n",
    "\n",
    "    return values_in_date_range, values_outside_date_range\n",
    "\n",
    "def filter_election_periods(data:pd.DataFrame,dates:list[str], offset:int = 3)->tuple[pd.DataFrame,pd.DataFrame]:\n",
    "    data[(data['Date'] >= '2010-01-01') & (data['Date'] <= '2024-12-31')]\n",
    "    election_data = pd.DataFrame()  \n",
    "    not_election_data = data\n",
    "    for date in dates:\n",
    "        single_election_data, not_election_data = group_by_date(date, not_election_data, offset)\n",
    "        election_data = pd.concat([election_data, single_election_data], ignore_index=True)\n",
    "    return(election_data, not_election_data)\n",
    "\n",
    "\n"
   ]
  },
  {
   "cell_type": "code",
   "execution_count": 6,
   "metadata": {},
   "outputs": [
    {
     "name": "stdout",
     "output_type": "stream",
     "text": [
      "####UK######\n",
      "NormaltestResult(statistic=714832.3692855317, pvalue=0.0)\n",
      "####USA######\n",
      "NormaltestResult(statistic=50657.0272018619, pvalue=0.0)\n",
      "####Germany######\n",
      "NormaltestResult(statistic=116691.30013803099, pvalue=0.0)\n",
      "####Austria######\n",
      "NormaltestResult(statistic=29719.77269916006, pvalue=0.0)\n"
     ]
    }
   ],
   "source": [
    "## test if data is nomal distibuted\n",
    "## if p < 0.5 then data is NOT normaly distibuted\n",
    "for election in datasets:\n",
    "    print(f'####{election}######')\n",
    "    print(stats.normaltest(datasets[election].Changes))"
   ]
  },
  {
   "cell_type": "code",
   "execution_count": 17,
   "metadata": {},
   "outputs": [
    {
     "name": "stdout",
     "output_type": "stream",
     "text": [
      "####UK######\n",
      "MannwhitneyuResult(statistic=24024572050.0, pvalue=1.0)\n",
      "####USA######\n",
      "MannwhitneyuResult(statistic=68395710.0, pvalue=0.9379305319282984)\n",
      "####Germany######\n",
      "MannwhitneyuResult(statistic=849847883.5, pvalue=0.9999916783421336)\n",
      "####Austria######\n",
      "MannwhitneyuResult(statistic=94499906.0, pvalue=0.4335742219024387)\n"
     ]
    }
   ],
   "source": [
    "## does the mann whitneyu test becaus the data is not normaly distributed\n",
    "for election in datasets:\n",
    "    print(f'####{election}######')\n",
    "    election_data, not_election_data = filter_election_periods(datasets[election],election_times[election],3)\n",
    "    print(stats.mannwhitneyu(election_data.Changes, not_election_data.Changes, alternative='greater'))"
   ]
  },
  {
   "cell_type": "code",
   "execution_count": 23,
   "metadata": {},
   "outputs": [],
   "source": [
    "## hypothesen test für verschiedene offsets\n",
    "\n",
    "p_values_elections = {\n",
    "    'UK':  [],\n",
    "    'USA': [],\n",
    "    'Germany':  [],\n",
    "    'Austria':  []\n",
    "}\n",
    "for offset in range (10):\n",
    "    for election in datasets:\n",
    "        #print(f'####{election}######)\n",
    "        election_data, not_election_data = filter_election_periods(datasets[election],election_times[election],offset)\n",
    "        p_values_elections[election].append(stats.mannwhitneyu(x=election_data.Changes, y=not_election_data.Changes).pvalue)\n",
    "        #print(stats.ttest_ind(a=election_data.Changes, b=not_election_data.Changes, equal_var=False))\n",
    "\n",
    "    "
   ]
  },
  {
   "cell_type": "code",
   "execution_count": 24,
   "metadata": {},
   "outputs": [
    {
     "data": {
      "text/plain": [
       "<matplotlib.legend.Legend at 0x7a3a1f4fd7c0>"
      ]
     },
     "execution_count": 24,
     "metadata": {},
     "output_type": "execute_result"
    },
    {
     "data": {
      "image/png": "[encoded data removed]",
      "text/plain": [
       "<Figure size 640x480 with 1 Axes>"
      ]
     },
     "metadata": {},
     "output_type": "display_data"
    }
   ],
   "source": [
    "for election in p_values_elections:\n",
    "    plt.plot(p_values_elections[election],label=election)\n",
    "plt.xlabel('offset')\n",
    "plt.ylabel('p_value')\n",
    "plt.legend()"
   ]
  },
  {
   "cell_type": "code",
   "execution_count": null,
   "metadata": {},
   "outputs": [],
   "source": []
  },
  {
   "cell_type": "code",
   "execution_count": 7,
   "metadata": {},
   "outputs": [],
   "source": [
    "def group_by_person(election_data,not_election_data)->tuple[pd.Series,pd.Series]:\n",
    "    # Berechne die Mittelwerte der Änderungen für jede Gruppe\n",
    "    election_means = election_data.groupby('name')['Changes'].mean()\n",
    "    not_election_means = not_election_data.groupby('name')['Changes'].mean()\n",
    "\n",
    "    # Finde die gemeinsamen Namen in beiden DataFrames\n",
    "    common_names = election_means.index.intersection(not_election_means.index)\n",
    "\n",
    "    # Filtere die Daten auf die gemeinsamen Namen\n",
    "    election_means_common = election_means.loc[common_names]\n",
    "    not_election_means_common = not_election_means.loc[common_names]\n",
    "    \n",
    "    return (election_means_common, not_election_means_common)"
   ]
  },
  {
   "cell_type": "code",
   "execution_count": 16,
   "metadata": {},
   "outputs": [
    {
     "name": "stdout",
     "output_type": "stream",
     "text": [
      "####UK######\n",
      "WilcoxonResult(statistic=205197.0, pvalue=1.0)\n",
      "####USA######\n",
      "WilcoxonResult(statistic=41.0, pvalue=0.9556732177734375)\n",
      "####Germany######\n",
      "WilcoxonResult(statistic=113490.0, pvalue=0.999999981271898)\n",
      "####Austria######\n",
      "WilcoxonResult(statistic=18846.0, pvalue=0.999999465389015)\n"
     ]
    }
   ],
   "source": [
    "## does a wilcoxon test weil abhänige stichproben\n",
    "for election in datasets:\n",
    "    print(f'####{election}######')\n",
    "    election_data, not_election_data = filter_election_periods(datasets[election],election_times[election],3)\n",
    "    election_data, not_election_data = group_by_person(election_data, not_election_data)\n",
    "    print(stats.wilcoxon(x=election_data, y=not_election_data, alternative='greater'))\n",
    "    "
   ]
  },
  {
   "cell_type": "code",
   "execution_count": null,
   "metadata": {},
   "outputs": [],
   "source": []
  },
  {
   "cell_type": "code",
   "execution_count": 44,
   "metadata": {},
   "outputs": [
    {
     "name": "stdout",
     "output_type": "stream",
     "text": [
      "####UK######\n",
      "MannwhitneyuResult(statistic=279030576276.5, pvalue=6.190182418265848e-20)\n",
      "####USA-Represantatives######\n",
      "MannwhitneyuResult(statistic=254195309910.0, pvalue=0.4931038856361426)\n",
      "####USA-Senat######\n",
      "MannwhitneyuResult(statistic=96857838118.5, pvalue=2.4482690831353547e-06)\n",
      "####Germany######\n",
      "MannwhitneyuResult(statistic=7161436566.0, pvalue=4.23310747596975e-32)\n",
      "####Austria######\n",
      "MannwhitneyuResult(statistic=404277358.5, pvalue=3.284243037880551e-27)\n"
     ]
    }
   ],
   "source": [
    "for election in datasets:\n",
    "    print(f'####{election}######')\n",
    "    election_data, not_election_data = filter_election_periods(datasets[election],election_times[election],3)\n",
    "    print(stats.mannwhitneyu(election_data.Changes, not_election_data.Changes, alternative='two-sided'))"
   ]
  },
  {
   "cell_type": "markdown",
   "metadata": {},
   "source": [
    "## testing"
   ]
  },
  {
   "cell_type": "code",
   "execution_count": 19,
   "metadata": {},
   "outputs": [
    {
     "data": {
      "text/plain": [
       "TtestResult(statistic=0.5478099509038079, pvalue=0.583822913722108, df=240429.81976911525)"
      ]
     },
     "execution_count": 19,
     "metadata": {},
     "output_type": "execute_result"
    }
   ],
   "source": [
    "stats.ttest_ind(a=election_data.Changes, b=not_election_data.Changes, equal_var=False)"
   ]
  },
  {
   "cell_type": "code",
   "execution_count": 31,
   "metadata": {},
   "outputs": [
    {
     "data": {
      "text/html": [
       "<div>\n",
       "<style scoped>\n",
       "    .dataframe tbody tr th:only-of-type {\n",
       "        vertical-align: middle;\n",
       "    }\n",
       "\n",
       "    .dataframe tbody tr th {\n",
       "        vertical-align: top;\n",
       "    }\n",
       "\n",
       "    .dataframe thead th {\n",
       "        text-align: right;\n",
       "    }\n",
       "</style>\n",
       "<table border=\"1\" class=\"dataframe\">\n",
       "  <thead>\n",
       "    <tr style=\"text-align: right;\">\n",
       "      <th></th>\n",
       "      <th>Date</th>\n",
       "      <th>Time</th>\n",
       "      <th>User</th>\n",
       "      <th>Size</th>\n",
       "      <th>Changes</th>\n",
       "      <th>Politician</th>\n",
       "      <th>name</th>\n",
       "      <th>link</th>\n",
       "      <th>Country</th>\n",
       "      <th>Party</th>\n",
       "    </tr>\n",
       "  </thead>\n",
       "  <tbody>\n",
       "    <tr>\n",
       "      <th>0</th>\n",
       "      <td>2024-11-16</td>\n",
       "      <td>2024-11-16T15:43:16Z</td>\n",
       "      <td>InternetArchiveBot</td>\n",
       "      <td>9415</td>\n",
       "      <td>13</td>\n",
       "      <td>Christopher_Gohl</td>\n",
       "      <td>Christopher Gohl</td>\n",
       "      <td>/wiki/Christopher_Gohl</td>\n",
       "      <td>Germany</td>\n",
       "      <td>FDP</td>\n",
       "    </tr>\n",
       "    <tr>\n",
       "      <th>1</th>\n",
       "      <td>2024-10-13</td>\n",
       "      <td>2024-10-13T08:29:58Z</td>\n",
       "      <td>David Wintzer</td>\n",
       "      <td>9402</td>\n",
       "      <td>122</td>\n",
       "      <td>Christopher_Gohl</td>\n",
       "      <td>Christopher Gohl</td>\n",
       "      <td>/wiki/Christopher_Gohl</td>\n",
       "      <td>Germany</td>\n",
       "      <td>FDP</td>\n",
       "    </tr>\n",
       "    <tr>\n",
       "      <th>2</th>\n",
       "      <td>2024-10-13</td>\n",
       "      <td>2024-10-13T06:45:02Z</td>\n",
       "      <td>Dateientlinkerbot</td>\n",
       "      <td>9280</td>\n",
       "      <td>-64</td>\n",
       "      <td>Christopher_Gohl</td>\n",
       "      <td>Christopher Gohl</td>\n",
       "      <td>/wiki/Christopher_Gohl</td>\n",
       "      <td>Germany</td>\n",
       "      <td>FDP</td>\n",
       "    </tr>\n",
       "    <tr>\n",
       "      <th>3</th>\n",
       "      <td>2023-11-09</td>\n",
       "      <td>2023-11-09T17:04:24Z</td>\n",
       "      <td>Nico308</td>\n",
       "      <td>9344</td>\n",
       "      <td>49</td>\n",
       "      <td>Christopher_Gohl</td>\n",
       "      <td>Christopher Gohl</td>\n",
       "      <td>/wiki/Christopher_Gohl</td>\n",
       "      <td>Germany</td>\n",
       "      <td>FDP</td>\n",
       "    </tr>\n",
       "    <tr>\n",
       "      <th>4</th>\n",
       "      <td>2023-09-21</td>\n",
       "      <td>2023-09-21T15:13:43Z</td>\n",
       "      <td>Aka</td>\n",
       "      <td>9295</td>\n",
       "      <td>0</td>\n",
       "      <td>Christopher_Gohl</td>\n",
       "      <td>Christopher Gohl</td>\n",
       "      <td>/wiki/Christopher_Gohl</td>\n",
       "      <td>Germany</td>\n",
       "      <td>FDP</td>\n",
       "    </tr>\n",
       "    <tr>\n",
       "      <th>...</th>\n",
       "      <td>...</td>\n",
       "      <td>...</td>\n",
       "      <td>...</td>\n",
       "      <td>...</td>\n",
       "      <td>...</td>\n",
       "      <td>...</td>\n",
       "      <td>...</td>\n",
       "      <td>...</td>\n",
       "      <td>...</td>\n",
       "      <td>...</td>\n",
       "    </tr>\n",
       "    <tr>\n",
       "      <th>325610</th>\n",
       "      <td>2004-08-09</td>\n",
       "      <td>2004-08-09T09:50:39Z</td>\n",
       "      <td>Balû</td>\n",
       "      <td>431</td>\n",
       "      <td>137</td>\n",
       "      <td>Max_Straubinger</td>\n",
       "      <td>Max Straubinger</td>\n",
       "      <td>/wiki/Max_Straubinger</td>\n",
       "      <td>Germany</td>\n",
       "      <td>CSU</td>\n",
       "    </tr>\n",
       "    <tr>\n",
       "      <th>325611</th>\n",
       "      <td>2004-08-09</td>\n",
       "      <td>2004-08-09T09:50:39Z</td>\n",
       "      <td>Balû</td>\n",
       "      <td>431</td>\n",
       "      <td>137</td>\n",
       "      <td>Max_Straubinger</td>\n",
       "      <td>Max Straubinger</td>\n",
       "      <td>/wiki/Max_Straubinger</td>\n",
       "      <td>Germany</td>\n",
       "      <td>CSU</td>\n",
       "    </tr>\n",
       "    <tr>\n",
       "      <th>325612</th>\n",
       "      <td>2004-04-21</td>\n",
       "      <td>2004-04-21T18:19:50Z</td>\n",
       "      <td>Sansculotte</td>\n",
       "      <td>294</td>\n",
       "      <td>294</td>\n",
       "      <td>Max_Straubinger</td>\n",
       "      <td>Max Straubinger</td>\n",
       "      <td>/wiki/Max_Straubinger</td>\n",
       "      <td>Germany</td>\n",
       "      <td>CSU</td>\n",
       "    </tr>\n",
       "    <tr>\n",
       "      <th>325613</th>\n",
       "      <td>2004-04-21</td>\n",
       "      <td>2004-04-21T18:19:50Z</td>\n",
       "      <td>Sansculotte</td>\n",
       "      <td>294</td>\n",
       "      <td>294</td>\n",
       "      <td>Max_Straubinger</td>\n",
       "      <td>Max Straubinger</td>\n",
       "      <td>/wiki/Max_Straubinger</td>\n",
       "      <td>Germany</td>\n",
       "      <td>CSU</td>\n",
       "    </tr>\n",
       "    <tr>\n",
       "      <th>325614</th>\n",
       "      <td>2004-04-21</td>\n",
       "      <td>2004-04-21T18:19:50Z</td>\n",
       "      <td>Sansculotte</td>\n",
       "      <td>294</td>\n",
       "      <td>294</td>\n",
       "      <td>Max_Straubinger</td>\n",
       "      <td>Max Straubinger</td>\n",
       "      <td>/wiki/Max_Straubinger</td>\n",
       "      <td>Germany</td>\n",
       "      <td>CSU</td>\n",
       "    </tr>\n",
       "  </tbody>\n",
       "</table>\n",
       "<p>325615 rows × 10 columns</p>\n",
       "</div>"
      ],
      "text/plain": [
       "             Date                  Time                User  Size  Changes  \\\n",
       "0      2024-11-16  2024-11-16T15:43:16Z  InternetArchiveBot  9415       13   \n",
       "1      2024-10-13  2024-10-13T08:29:58Z       David Wintzer  9402      122   \n",
       "2      2024-10-13  2024-10-13T06:45:02Z   Dateientlinkerbot  9280      -64   \n",
       "3      2023-11-09  2023-11-09T17:04:24Z             Nico308  9344       49   \n",
       "4      2023-09-21  2023-09-21T15:13:43Z                 Aka  9295        0   \n",
       "...           ...                   ...                 ...   ...      ...   \n",
       "325610 2004-08-09  2004-08-09T09:50:39Z                Balû   431      137   \n",
       "325611 2004-08-09  2004-08-09T09:50:39Z                Balû   431      137   \n",
       "325612 2004-04-21  2004-04-21T18:19:50Z         Sansculotte   294      294   \n",
       "325613 2004-04-21  2004-04-21T18:19:50Z         Sansculotte   294      294   \n",
       "325614 2004-04-21  2004-04-21T18:19:50Z         Sansculotte   294      294   \n",
       "\n",
       "              Politician              name                    link  Country  \\\n",
       "0       Christopher_Gohl  Christopher Gohl  /wiki/Christopher_Gohl  Germany   \n",
       "1       Christopher_Gohl  Christopher Gohl  /wiki/Christopher_Gohl  Germany   \n",
       "2       Christopher_Gohl  Christopher Gohl  /wiki/Christopher_Gohl  Germany   \n",
       "3       Christopher_Gohl  Christopher Gohl  /wiki/Christopher_Gohl  Germany   \n",
       "4       Christopher_Gohl  Christopher Gohl  /wiki/Christopher_Gohl  Germany   \n",
       "...                  ...               ...                     ...      ...   \n",
       "325610   Max_Straubinger   Max Straubinger   /wiki/Max_Straubinger  Germany   \n",
       "325611   Max_Straubinger   Max Straubinger   /wiki/Max_Straubinger  Germany   \n",
       "325612   Max_Straubinger   Max Straubinger   /wiki/Max_Straubinger  Germany   \n",
       "325613   Max_Straubinger   Max Straubinger   /wiki/Max_Straubinger  Germany   \n",
       "325614   Max_Straubinger   Max Straubinger   /wiki/Max_Straubinger  Germany   \n",
       "\n",
       "       Party  \n",
       "0        FDP  \n",
       "1        FDP  \n",
       "2        FDP  \n",
       "3        FDP  \n",
       "4        FDP  \n",
       "...      ...  \n",
       "325610   CSU  \n",
       "325611   CSU  \n",
       "325612   CSU  \n",
       "325613   CSU  \n",
       "325614   CSU  \n",
       "\n",
       "[325615 rows x 10 columns]"
      ]
     },
     "execution_count": 31,
     "metadata": {},
     "output_type": "execute_result"
    }
   ],
   "source": [
    "german"
   ]
  },
  {
   "cell_type": "code",
   "execution_count": 19,
   "metadata": {},
   "outputs": [],
   "source": [
    "politician = german[german['Politician']=='Christopher_Gohl']\n",
    "politician =politician.groupby('Date')['Changes'].mean()\n",
    "#politician = politician.set_index('Date')"
   ]
  },
  {
   "cell_type": "code",
   "execution_count": 25,
   "metadata": {},
   "outputs": [],
   "source": [
    "def fill_missing_date_for_politician(data: pd.DataFrame) -> pd.DataFrame:\n",
    "    \"\"\"\n",
    "    Fills missing dates for each politician in the dataset with 0 changes.\n",
    "\n",
    "    Args:\n",
    "        data (pd.DataFrame): A DataFrame containing columns 'name', 'Date', and 'Changes'.\n",
    "\n",
    "    Returns:\n",
    "        pd.DataFrame: A DataFrame with all dates filled for each politician, and missing values replaced with 0.\n",
    "    \"\"\"\n",
    "    # Generate a complete range of dates\n",
    "    dates = pd.date_range(start='2010-01-01', end='2024-12-31', freq='D')  # Daily frequency\n",
    "\n",
    "    # Initialize an empty list to store results\n",
    "    merged_data = []\n",
    "    i = 0\n",
    "    # Process each politician's data\n",
    "    for name in data['name'].unique():\n",
    "        i = i + 1\n",
    "        print(i,end='\\r')\n",
    "        # Filter data for the current politician\n",
    "        politician_data = data[data['name'] == name]\n",
    "        \n",
    "        # Group by 'Date' and calculate the mean of 'Changes'\n",
    "        politician_data = (\n",
    "            politician_data.groupby('Date')['Changes']\n",
    "            .mean()\n",
    "            .reindex(dates, fill_value=0)  # Fill missing dates with 0\n",
    "        )\n",
    "        \n",
    "        # Create a DataFrame with the complete date range\n",
    "        df = pd.DataFrame({\n",
    "            'Date': dates,\n",
    "            'Changes': politician_data.values,\n",
    "            'name': name\n",
    "        })\n",
    "        \n",
    "        # Append to the result list\n",
    "        merged_data.append(df)\n",
    "    \n",
    "    # Concatenate all dataframes into one\n",
    "    merged_data = pd.concat(merged_data, ignore_index=True)\n",
    "    return merged_data\n"
   ]
  },
  {
   "cell_type": "code",
   "execution_count": 26,
   "metadata": {},
   "outputs": [
    {
     "name": "stdout",
     "output_type": "stream",
     "text": [
      "####UK######\n",
      "WilcoxonResult(statistic=96725.0, pvalue=1.0169651751203742e-105)\n",
      "####USA######\n",
      "WilcoxonResult(statistic=64.0, pvalue=0.5790557861328125)\n",
      "####Germany######\n",
      "WilcoxonResult(statistic=64390.0, pvalue=9.918016506647014e-94)\n",
      "####Austria######\n",
      "WilcoxonResult(statistic=17336.0, pvalue=2.1938363167321793e-39)\n"
     ]
    }
   ],
   "source": [
    "for election in datasets:\n",
    "    print(f'####{election}######')\n",
    "    data = fill_missing_date_for_politician(datasets[election])\n",
    "    election_data, not_election_data = filter_election_periods(data,election_times[election],3)\n",
    "    election_data,not_election_data = group_by_person(election_data, not_election_data)\n",
    "    print(stats.wilcoxon(election_data, not_election_data, alternative='two-sided'))"
   ]
  }
 ],
 "metadata": {
  "kernelspec": {
   "display_name": "usr",
   "language": "python",
   "name": "python3"
  },
  "language_info": {
   "codemirror_mode": {
    "name": "ipython",
    "version": 3
   },
   "file_extension": ".py",
   "mimetype": "text/x-python",
   "name": "python",
   "nbconvert_exporter": "python",
   "pygments_lexer": "ipython3",
   "version": "3.10.12"
  }
 },
 "nbformat": 4,
 "nbformat_minor": 2
}
